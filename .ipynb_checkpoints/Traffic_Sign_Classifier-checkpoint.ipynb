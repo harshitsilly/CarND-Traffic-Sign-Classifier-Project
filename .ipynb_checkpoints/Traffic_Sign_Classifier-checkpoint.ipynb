{
 "cells": [
  {
   "cell_type": "markdown",
   "metadata": {},
   "source": [
    "# Self-Driving Car Engineer Nanodegree\n",
    "\n",
    "## Deep Learning\n",
    "\n",
    "## Project: Build a Traffic Sign Recognition Classifier\n",
    "\n",
    "In this notebook, a template is provided for you to implement your functionality in stages, which is required to successfully complete this project. If additional code is required that cannot be included in the notebook, be sure that the Python code is successfully imported and included in your submission if necessary. \n",
    "\n",
    "> **Note**: Once you have completed all of the code implementations, you need to finalize your work by exporting the iPython Notebook as an HTML document. Before exporting the notebook to html, all of the code cells need to have been run so that reviewers can see the final implementation and output. You can then export the notebook by using the menu above and navigating to  \\n\",\n",
    "    \"**File -> Download as -> HTML (.html)**. Include the finished document along with this notebook as your submission. \n",
    "\n",
    "In addition to implementing code, there is a writeup to complete. The writeup should be completed in a separate file, which can be either a markdown file or a pdf document. There is a [write up template](https://github.com/udacity/CarND-Traffic-Sign-Classifier-Project/blob/master/writeup_template.md) that can be used to guide the writing process. Completing the code template and writeup template will cover all of the [rubric points](https://review.udacity.com/#!/rubrics/481/view) for this project.\n",
    "\n",
    "The [rubric](https://review.udacity.com/#!/rubrics/481/view) contains \"Stand Out Suggestions\" for enhancing the project beyond the minimum requirements. The stand out suggestions are optional. If you decide to pursue the \"stand out suggestions\", you can include the code in this Ipython notebook and also discuss the results in the writeup file.\n",
    "\n",
    "\n",
    ">**Note:** Code and Markdown cells can be executed using the **Shift + Enter** keyboard shortcut. In addition, Markdown cells can be edited by typically double-clicking the cell to enter edit mode."
   ]
  },
  {
   "cell_type": "markdown",
   "metadata": {},
   "source": [
    "---\n",
    "## Step 0: Load The Data"
   ]
  },
  {
   "cell_type": "code",
   "execution_count": 53,
   "metadata": {
    "collapsed": false
   },
   "outputs": [
    {
     "name": "stdout",
     "output_type": "stream",
     "text": [
      "[[[[ 28  25  24]\n",
      "   [ 27  24  23]\n",
      "   [ 27  24  22]\n",
      "   ..., \n",
      "   [ 32  28  24]\n",
      "   [ 31  27  25]\n",
      "   [ 31  27  26]]\n",
      "\n",
      "  [[ 29  26  25]\n",
      "   [ 27  25  23]\n",
      "   [ 27  25  23]\n",
      "   ..., \n",
      "   [ 32  28  24]\n",
      "   [ 31  27  24]\n",
      "   [ 30  27  25]]\n",
      "\n",
      "  [[ 28  26  26]\n",
      "   [ 27  25  23]\n",
      "   [ 26  25  23]\n",
      "   ..., \n",
      "   [ 32  28  24]\n",
      "   [ 31  27  24]\n",
      "   [ 30  27  25]]\n",
      "\n",
      "  ..., \n",
      "  [[ 27  24  23]\n",
      "   [ 28  25  24]\n",
      "   [ 30  25  24]\n",
      "   ..., \n",
      "   [ 27  24  23]\n",
      "   [ 28  24  22]\n",
      "   [ 29  25  22]]\n",
      "\n",
      "  [[ 28  23  23]\n",
      "   [ 29  24  24]\n",
      "   [ 31  25  24]\n",
      "   ..., \n",
      "   [ 27  24  23]\n",
      "   [ 28  24  22]\n",
      "   [ 28  24  21]]\n",
      "\n",
      "  [[ 29  23  23]\n",
      "   [ 30  24  24]\n",
      "   [ 32  24  23]\n",
      "   ..., \n",
      "   [ 27  24  22]\n",
      "   [ 27  23  21]\n",
      "   [ 26  22  20]]]\n",
      "\n",
      "\n",
      " [[[ 28  24  24]\n",
      "   [ 26  23  23]\n",
      "   [ 27  24  24]\n",
      "   ..., \n",
      "   [ 31  28  26]\n",
      "   [ 31  28  27]\n",
      "   [ 32  28  27]]\n",
      "\n",
      "  [[ 27  24  24]\n",
      "   [ 27  24  24]\n",
      "   [ 28  25  24]\n",
      "   ..., \n",
      "   [ 31  27  25]\n",
      "   [ 31  27  26]\n",
      "   [ 33  29  27]]\n",
      "\n",
      "  [[ 26  24  24]\n",
      "   [ 26  24  24]\n",
      "   [ 27  24  23]\n",
      "   ..., \n",
      "   [ 31  26  25]\n",
      "   [ 31  27  26]\n",
      "   [ 33  29  27]]\n",
      "\n",
      "  ..., \n",
      "  [[ 28  25  23]\n",
      "   [ 30  27  24]\n",
      "   [ 30  27  24]\n",
      "   ..., \n",
      "   [ 27  24  22]\n",
      "   [ 27  24  22]\n",
      "   [ 28  24  22]]\n",
      "\n",
      "  [[ 27  24  22]\n",
      "   [ 29  26  23]\n",
      "   [ 31  26  24]\n",
      "   ..., \n",
      "   [ 26  23  21]\n",
      "   [ 27  24  22]\n",
      "   [ 28  25  23]]\n",
      "\n",
      "  [[ 28  24  23]\n",
      "   [ 28  24  22]\n",
      "   [ 29  24  22]\n",
      "   ..., \n",
      "   [ 27  23  22]\n",
      "   [ 27  24  23]\n",
      "   [ 29  26  25]]]\n",
      "\n",
      "\n",
      " [[[ 29  25  25]\n",
      "   [ 29  26  26]\n",
      "   [ 30  27  27]\n",
      "   ..., \n",
      "   [ 31  27  24]\n",
      "   [ 31  28  25]\n",
      "   [ 32  29  27]]\n",
      "\n",
      "  [[ 27  24  24]\n",
      "   [ 27  25  25]\n",
      "   [ 28  26  26]\n",
      "   ..., \n",
      "   [ 31  27  23]\n",
      "   [ 32  28  25]\n",
      "   [ 33  30  27]]\n",
      "\n",
      "  [[ 27  24  24]\n",
      "   [ 28  26  26]\n",
      "   [ 29  27  27]\n",
      "   ..., \n",
      "   [ 32  28  24]\n",
      "   [ 32  28  24]\n",
      "   [ 33  29  26]]\n",
      "\n",
      "  ..., \n",
      "  [[ 28  26  22]\n",
      "   [ 29  26  21]\n",
      "   [ 31  26  22]\n",
      "   ..., \n",
      "   [ 29  24  21]\n",
      "   [ 28  23  20]\n",
      "   [ 28  23  22]]\n",
      "\n",
      "  [[ 27  26  23]\n",
      "   [ 28  25  21]\n",
      "   [ 30  25  22]\n",
      "   ..., \n",
      "   [ 28  23  21]\n",
      "   [ 27  22  20]\n",
      "   [ 28  24  22]]\n",
      "\n",
      "  [[ 29  26  23]\n",
      "   [ 28  24  21]\n",
      "   [ 29  24  21]\n",
      "   ..., \n",
      "   [ 29  25  23]\n",
      "   [ 28  24  22]\n",
      "   [ 30  26  24]]]\n",
      "\n",
      "\n",
      " ..., \n",
      " [[[ 51  67  86]\n",
      "   [ 55  59  71]\n",
      "   [ 75  81  92]\n",
      "   ..., \n",
      "   [250 248 243]\n",
      "   [207 212 233]\n",
      "   [121 116 140]]\n",
      "\n",
      "  [[ 35  42  49]\n",
      "   [ 48  47  51]\n",
      "   [ 91  96 113]\n",
      "   ..., \n",
      "   [220 224 226]\n",
      "   [169 177 187]\n",
      "   [ 84  87 100]]\n",
      "\n",
      "  [[ 27  26  29]\n",
      "   [ 41  38  39]\n",
      "   [ 55  64  78]\n",
      "   ..., \n",
      "   [122 143 160]\n",
      "   [ 97 104 129]\n",
      "   [ 59  59  56]]\n",
      "\n",
      "  ..., \n",
      "  [[ 24  23  27]\n",
      "   [ 21  20  27]\n",
      "   [ 20  19  22]\n",
      "   ..., \n",
      "   [ 76  79  83]\n",
      "   [ 54  64  77]\n",
      "   [ 45  51  65]]\n",
      "\n",
      "  [[ 31  31  33]\n",
      "   [ 22  23  29]\n",
      "   [ 20  18  21]\n",
      "   ..., \n",
      "   [ 66  67  84]\n",
      "   [ 56  65  74]\n",
      "   [ 45  55  73]]\n",
      "\n",
      "  [[ 28  28  30]\n",
      "   [ 22  21  25]\n",
      "   [ 19  18  19]\n",
      "   ..., \n",
      "   [ 67  63  76]\n",
      "   [ 39  45  55]\n",
      "   [ 32  37  47]]]\n",
      "\n",
      "\n",
      " [[[ 82  78  96]\n",
      "   [120 126 148]\n",
      "   [112 125 146]\n",
      "   ..., \n",
      "   [185 182 177]\n",
      "   [204 210 215]\n",
      "   [132 114 121]]\n",
      "\n",
      "  [[ 74  77  93]\n",
      "   [171 174 185]\n",
      "   [137 164 184]\n",
      "   ..., \n",
      "   [180 181 187]\n",
      "   [198 200 213]\n",
      "   [ 79  85  85]]\n",
      "\n",
      "  [[ 54  50  56]\n",
      "   [100 106 118]\n",
      "   [117 132 158]\n",
      "   ..., \n",
      "   [157 153 160]\n",
      "   [176 183 199]\n",
      "   [ 88  80  82]]\n",
      "\n",
      "  ..., \n",
      "  [[ 22  21  22]\n",
      "   [ 20  19  19]\n",
      "   [ 18  16  19]\n",
      "   ..., \n",
      "   [ 50  50  60]\n",
      "   [ 37  43  52]\n",
      "   [ 30  41  59]]\n",
      "\n",
      "  [[ 18  16  18]\n",
      "   [ 19  17  18]\n",
      "   [ 19  18  21]\n",
      "   ..., \n",
      "   [ 36  44  60]\n",
      "   [ 33  36  48]\n",
      "   [ 36  43  61]]\n",
      "\n",
      "  [[ 18  17  20]\n",
      "   [ 21  20  23]\n",
      "   [ 24  22  25]\n",
      "   ..., \n",
      "   [ 32  34  41]\n",
      "   [ 45  42  48]\n",
      "   [ 41  43  52]]]\n",
      "\n",
      "\n",
      " [[[ 69  79  96]\n",
      "   [ 24  26  28]\n",
      "   [ 40  42  45]\n",
      "   ..., \n",
      "   [225 234 237]\n",
      "   [151 161 166]\n",
      "   [164 162 169]]\n",
      "\n",
      "  [[ 99 110 125]\n",
      "   [ 36  41  47]\n",
      "   [ 63  56  62]\n",
      "   ..., \n",
      "   [197 216 224]\n",
      "   [154 163 169]\n",
      "   [164 163 159]]\n",
      "\n",
      "  [[104 107 113]\n",
      "   [ 34  37  40]\n",
      "   [ 72  70  77]\n",
      "   ..., \n",
      "   [223 237 235]\n",
      "   [181 192 198]\n",
      "   [166 167 159]]\n",
      "\n",
      "  ..., \n",
      "  [[ 21  20  23]\n",
      "   [ 23  24  30]\n",
      "   [ 19  20  24]\n",
      "   ..., \n",
      "   [ 45  47  54]\n",
      "   [ 58  62  70]\n",
      "   [ 58  70  82]]\n",
      "\n",
      "  [[ 18  17  21]\n",
      "   [ 19  19  24]\n",
      "   [ 18  18  23]\n",
      "   ..., \n",
      "   [ 36  36  40]\n",
      "   [ 58  59  70]\n",
      "   [ 61  69  81]]\n",
      "\n",
      "  [[ 17  16  19]\n",
      "   [ 16  15  18]\n",
      "   [ 16  15  18]\n",
      "   ..., \n",
      "   [ 40  40  44]\n",
      "   [ 57  62  73]\n",
      "   [ 57  68  80]]]]\n"
     ]
    }
   ],
   "source": [
    "# Load pickled data\n",
    "import pickle\n",
    "from scipy.misc import imread\n",
    "from datetime import datetime\n",
    "import pandas as pd\n",
    "import cv2\n",
    "\n",
    "\n",
    "# TODO: Fill this in based on where you saved the training and testing data\n",
    "\n",
    "training_file = \"train.p\"\n",
    "validation_file= \"valid.p\"\n",
    "testing_file = \"test.p\"\n",
    "\n",
    "with open(training_file, mode='rb') as f:\n",
    "    train = pickle.load(f)\n",
    "with open(validation_file, mode='rb') as f:\n",
    "    valid = pickle.load(f)\n",
    "with open(testing_file, mode='rb') as f:\n",
    "    test = pickle.load(f)\n",
    "    \n",
    "X_train, y_train = train['features'], train['labels']\n",
    "X_valid, y_valid = valid['features'], valid['labels']\n",
    "X_test, y_test = test['features'], test['labels']\n",
    "print(X_train)"
   ]
  },
  {
   "cell_type": "markdown",
   "metadata": {},
   "source": [
    "---\n",
    "\n",
    "## Step 1: Dataset Summary & Exploration\n",
    "\n",
    "The pickled data is a dictionary with 4 key/value pairs:\n",
    "\n",
    "- `'features'` is a 4D array containing raw pixel data of the traffic sign images, (num examples, width, height, channels).\n",
    "- `'labels'` is a 1D array containing the label/class id of the traffic sign. The file `signnames.csv` contains id -> name mappings for each id.\n",
    "- `'sizes'` is a list containing tuples, (width, height) representing the original width and height the image.\n",
    "- `'coords'` is a list containing tuples, (x1, y1, x2, y2) representing coordinates of a bounding box around the sign in the image. **THESE COORDINATES ASSUME THE ORIGINAL IMAGE. THE PICKLED DATA CONTAINS RESIZED VERSIONS (32 by 32) OF THESE IMAGES**\n",
    "\n",
    "Complete the basic data summary below. Use python, numpy and/or pandas methods to calculate the data summary rather than hard coding the results. For example, the [pandas shape method](http://pandas.pydata.org/pandas-docs/stable/generated/pandas.DataFrame.shape.html) might be useful for calculating some of the summary results. "
   ]
  },
  {
   "cell_type": "markdown",
   "metadata": {},
   "source": [
    "### Provide a Basic Summary of the Data Set Using Python, Numpy and/or Pandas"
   ]
  },
  {
   "cell_type": "code",
   "execution_count": 54,
   "metadata": {
    "collapsed": false
   },
   "outputs": [
    {
     "name": "stdout",
     "output_type": "stream",
     "text": [
      "Number of training examples = 34799\n",
      "Number of testing examples = 12630\n",
      "Image data shape = (32, 32, 3)\n",
      "Number of classes = 43\n"
     ]
    }
   ],
   "source": [
    "### Replace each question mark with the appropriate value. \n",
    "### Use python, pandas or numpy methods rather than hard coding the results\n",
    "import numpy as np\n",
    "\n",
    "Xtrain = np.array(X_train)\n",
    "Xtest = np.array(X_test)\n",
    "ytrain = np.array(y_train)\n",
    "# TODO: Number of training examples\n",
    "n_train = Xtrain.shape[0]\n",
    "\n",
    "# TODO: Number of testing examples.\n",
    "n_test =  Xtest.shape[0]\n",
    "\n",
    "# TODO: What's the shape of an traffic sign image?\n",
    "image_shape = Xtrain[0].shape\n",
    "\n",
    "# TODO: How many unique classes/labels there are in the dataset.\n",
    "n_classes = np.unique(ytrain).shape[0]\n",
    "\n",
    "print(\"Number of training examples =\", n_train)\n",
    "print(\"Number of testing examples =\", n_test)\n",
    "print(\"Image data shape =\", image_shape)\n",
    "print(\"Number of classes =\", n_classes)"
   ]
  },
  {
   "cell_type": "markdown",
   "metadata": {},
   "source": [
    "### Include an exploratory visualization of the dataset"
   ]
  },
  {
   "cell_type": "markdown",
   "metadata": {},
   "source": [
    "Visualize the German Traffic Signs Dataset using the pickled file(s). This is open ended, suggestions include: plotting traffic sign images, plotting the count of each sign, etc.\n",
    "\n",
    "The [Matplotlib](http://matplotlib.org/) [examples](http://matplotlib.org/examples/index.html) and [gallery](http://matplotlib.org/gallery.html) pages are a great resource for doing visualizations in Python.\n",
    "\n",
    "**NOTE:** It's recommended you start with something simple first. If you wish to do more, come back to it after you've completed the rest of the sections."
   ]
  },
  {
   "cell_type": "code",
   "execution_count": 55,
   "metadata": {
    "collapsed": false
   },
   "outputs": [
    {
     "data": {
      "image/png": "[encoded data removed]",
      "text/plain": [
       "<matplotlib.figure.Figure at 0x250980c2710>"
      ]
     },
     "metadata": {},
     "output_type": "display_data"
    }
   ],
   "source": [
    "### Data exploration visualization code goes here.\n",
    "### Feel free to use as many code cells as needed.\n",
    "# plotting the count of each sign\n",
    "import matplotlib.pyplot as plt\n",
    "# Visualizations will be shown in the notebook.\n",
    "%matplotlib inline\n",
    "plt.hist(y_train, bins=len(np.unique(y_train)),facecolor='red')\n",
    "plt.show()\n"
   ]
  },
  {
   "cell_type": "markdown",
   "metadata": {},
   "source": [
    "----\n",
    "\n",
    "## Step 2: Design and Test a Model Architecture\n",
    "\n",
    "Design and implement a deep learning model that learns to recognize traffic signs. Train and test your model on the [German Traffic Sign Dataset](http://benchmark.ini.rub.de/?section=gtsrb&subsection=dataset).\n",
    "\n",
    "The LeNet-5 implementation shown in the [classroom](https://classroom.udacity.com/nanodegrees/nd013/parts/fbf77062-5703-404e-b60c-95b78b2f3f9e/modules/6df7ae49-c61c-4bb2-a23e-6527e69209ec/lessons/601ae704-1035-4287-8b11-e2c2716217ad/concepts/d4aca031-508f-4e0b-b493-e7b706120f81) at the end of the CNN lesson is a solid starting point. You'll have to change the number of classes and possibly the preprocessing, but aside from that it's plug and play! \n",
    "\n",
    "With the LeNet-5 solution from the lecture, you should expect a validation set accuracy of about 0.89. To meet specifications, the validation set accuracy will need to be at least 0.93. It is possible to get an even higher accuracy, but 0.93 is the minimum for a successful project submission. \n",
    "\n",
    "There are various aspects to consider when thinking about this problem:\n",
    "\n",
    "- Neural network architecture (is the network over or underfitting?)\n",
    "- Play around preprocessing techniques (normalization, rgb to grayscale, etc)\n",
    "- Number of examples per label (some have more than others).\n",
    "- Generate fake data.\n",
    "\n",
    "Here is an example of a [published baseline model on this problem](http://yann.lecun.com/exdb/publis/pdf/sermanet-ijcnn-11.pdf). It's not required to be familiar with the approach used in the paper but, it's good practice to try to read papers like these."
   ]
  },
  {
   "cell_type": "markdown",
   "metadata": {},
   "source": [
    "### Pre-process the Data Set (normalization, grayscale, etc.)"
   ]
  },
  {
   "cell_type": "markdown",
   "metadata": {},
   "source": [
    "Use the code cell (or multiple code cells, if necessary) to implement the first step of your project."
   ]
  },
  {
   "cell_type": "code",
   "execution_count": 46,
   "metadata": {
    "collapsed": false
   },
   "outputs": [],
   "source": [
    "def rgbto_gray_normalize(X_train):\n",
    "    X_Grayscale= np.dot(X_train[...,:3],[0.299,0.587,0.114]).reshape(-1,32,32,1)\n",
    "    X_normalize = np.subtract(np.divide(X_Grayscale,255),0.5)\n",
    "    return X_normalize"
   ]
  },
  {
   "cell_type": "code",
   "execution_count": 47,
   "metadata": {
    "collapsed": false
   },
   "outputs": [
    {
     "name": "stdout",
     "output_type": "stream",
     "text": [
      "(34799, 32, 32, 1)\n"
     ]
    }
   ],
   "source": [
    "### Preprocess the data here. Preprocessing steps could include normalization, converting to grayscale, etc.\n",
    "### Feel free to use as many code cells as needed.\n",
    "from sklearn.utils import shuffle\n",
    "\n",
    "# X_train, y_train = augmented_data_new(X_train, y_train)\n",
    "X_train = rgbto_gray_normalize(X_train)\n",
    "X_train, y_train = shuffle(X_train, y_train)\n",
    "# X_train_list = X_train.tolist()\n",
    "print(X_train.shape)\n",
    "# X_train,y_train = shuffle(X_grayscale, y_train)\n",
    "X_valid = rgbto_gray_normalize(X_valid)"
   ]
  },
  {
   "cell_type": "code",
   "execution_count": 49,
   "metadata": {
    "collapsed": false
   },
   "outputs": [
    {
     "ename": "ValueError",
     "evalue": "shapes (12630,32,32,1) and (3,) not aligned: 1 (dim 3) != 3 (dim 0)",
     "output_type": "error",
     "traceback": [
      "\u001b[0;31m---------------------------------------------------------------------------\u001b[0m",
      "\u001b[0;31mValueError\u001b[0m                                Traceback (most recent call last)",
      "\u001b[0;32m<ipython-input-49-981c01a6a7f0>\u001b[0m in \u001b[0;36m<module>\u001b[0;34m()\u001b[0m\n\u001b[0;32m----> 1\u001b[0;31m \u001b[0mX_test\u001b[0m \u001b[1;33m=\u001b[0m \u001b[0mrgbto_gray_normalize\u001b[0m\u001b[1;33m(\u001b[0m\u001b[0mX_test\u001b[0m\u001b[1;33m)\u001b[0m\u001b[1;33m\u001b[0m\u001b[0m\n\u001b[0m\u001b[1;32m      2\u001b[0m \u001b[0mplt\u001b[0m\u001b[1;33m.\u001b[0m\u001b[0mimshow\u001b[0m\u001b[1;33m(\u001b[0m\u001b[0mnp\u001b[0m\u001b[1;33m.\u001b[0m\u001b[0msqueeze\u001b[0m\u001b[1;33m(\u001b[0m\u001b[0mX_test\u001b[0m\u001b[1;33m[\u001b[0m\u001b[1;36m0\u001b[0m\u001b[1;33m]\u001b[0m\u001b[1;33m)\u001b[0m\u001b[1;33m,\u001b[0m \u001b[0mcmap\u001b[0m\u001b[1;33m=\u001b[0m\u001b[1;34m'gray'\u001b[0m\u001b[1;33m)\u001b[0m\u001b[1;33m\u001b[0m\u001b[0m\n\u001b[1;32m      3\u001b[0m \u001b[0mplt\u001b[0m\u001b[1;33m.\u001b[0m\u001b[0mshow\u001b[0m\u001b[1;33m(\u001b[0m\u001b[1;33m)\u001b[0m\u001b[1;33m\u001b[0m\u001b[0m\n\u001b[1;32m      4\u001b[0m \u001b[0mimwrite\u001b[0m\u001b[1;33m(\u001b[0m\u001b[1;34m'newlogos.png'\u001b[0m\u001b[1;33m,\u001b[0m\u001b[0mX_test\u001b[0m\u001b[1;33m[\u001b[0m\u001b[1;36m0\u001b[0m\u001b[1;33m]\u001b[0m\u001b[1;33m)\u001b[0m\u001b[1;33m\u001b[0m\u001b[0m\n",
      "\u001b[0;32m<ipython-input-46-4ee64cb5c282>\u001b[0m in \u001b[0;36mrgbto_gray_normalize\u001b[0;34m(X_train)\u001b[0m\n\u001b[1;32m      1\u001b[0m \u001b[1;32mdef\u001b[0m \u001b[0mrgbto_gray_normalize\u001b[0m\u001b[1;33m(\u001b[0m\u001b[0mX_train\u001b[0m\u001b[1;33m)\u001b[0m\u001b[1;33m:\u001b[0m\u001b[1;33m\u001b[0m\u001b[0m\n\u001b[0;32m----> 2\u001b[0;31m     \u001b[0mX_Grayscale\u001b[0m\u001b[1;33m=\u001b[0m \u001b[0mnp\u001b[0m\u001b[1;33m.\u001b[0m\u001b[0mdot\u001b[0m\u001b[1;33m(\u001b[0m\u001b[0mX_train\u001b[0m\u001b[1;33m[\u001b[0m\u001b[1;33m...\u001b[0m\u001b[1;33m,\u001b[0m\u001b[1;33m:\u001b[0m\u001b[1;36m3\u001b[0m\u001b[1;33m]\u001b[0m\u001b[1;33m,\u001b[0m\u001b[1;33m[\u001b[0m\u001b[1;36m0.299\u001b[0m\u001b[1;33m,\u001b[0m\u001b[1;36m0.587\u001b[0m\u001b[1;33m,\u001b[0m\u001b[1;36m0.114\u001b[0m\u001b[1;33m]\u001b[0m\u001b[1;33m)\u001b[0m\u001b[1;33m.\u001b[0m\u001b[0mreshape\u001b[0m\u001b[1;33m(\u001b[0m\u001b[1;33m-\u001b[0m\u001b[1;36m1\u001b[0m\u001b[1;33m,\u001b[0m\u001b[1;36m32\u001b[0m\u001b[1;33m,\u001b[0m\u001b[1;36m32\u001b[0m\u001b[1;33m,\u001b[0m\u001b[1;36m1\u001b[0m\u001b[1;33m)\u001b[0m\u001b[1;33m\u001b[0m\u001b[0m\n\u001b[0m\u001b[1;32m      3\u001b[0m     \u001b[0mX_normalize\u001b[0m \u001b[1;33m=\u001b[0m \u001b[0mnp\u001b[0m\u001b[1;33m.\u001b[0m\u001b[0msubtract\u001b[0m\u001b[1;33m(\u001b[0m\u001b[0mnp\u001b[0m\u001b[1;33m.\u001b[0m\u001b[0mdivide\u001b[0m\u001b[1;33m(\u001b[0m\u001b[0mX_Grayscale\u001b[0m\u001b[1;33m,\u001b[0m\u001b[1;36m255\u001b[0m\u001b[1;33m)\u001b[0m\u001b[1;33m,\u001b[0m\u001b[1;36m0.5\u001b[0m\u001b[1;33m)\u001b[0m\u001b[1;33m\u001b[0m\u001b[0m\n\u001b[1;32m      4\u001b[0m     \u001b[1;32mreturn\u001b[0m \u001b[0mX_normalize\u001b[0m\u001b[1;33m\u001b[0m\u001b[0m\n",
      "\u001b[0;31mValueError\u001b[0m: shapes (12630,32,32,1) and (3,) not aligned: 1 (dim 3) != 3 (dim 0)"
     ]
    }
   ],
   "source": [
    "X_test = rgbto_gray_normalize(X_test)\n",
    "plt.imshow(np.squeeze(X_test[0]), cmap='gray')\n",
    "plt.show()"
   ]
  },
  {
   "cell_type": "markdown",
   "metadata": {},
   "source": [
    "### Model Architecture"
   ]
  },
  {
   "cell_type": "code",
   "execution_count": 8,
   "metadata": {
    "collapsed": false
   },
   "outputs": [],
   "source": [
    "### Define your architecture here.\n",
    "### Feel free to use as many code cells as needed.\n",
    "# lenet model\n",
    "import tensorflow as tf\n",
    "from tensorflow.contrib.layers import flatten\n",
    "x = tf.placeholder(tf.float32, (None, 32, 32, 1))\n",
    "y = tf.placeholder(tf.int32, (None))\n",
    "def LeNet(x,keep_prob):    \n",
    "    global conv1,conv2,fc2\n",
    "    # Arguments used for tf.truncated_normal, randomly defines variables for the weights and biases for each layer\n",
    "    mu = 0\n",
    "    sigma = 0.1\n",
    "    \n",
    "    # SOLUTION: Layer 1: Convolutional. Input = 32x32x1. Output = 28x28x6.\n",
    "    conv1_W = tf.Variable(tf.truncated_normal(shape=(5, 5, 1, 6), mean = mu, stddev = sigma))\n",
    "    conv1_b = tf.Variable(tf.zeros(6))\n",
    "    conv1   = tf.nn.conv2d(x, conv1_W, strides=[1, 1, 1, 1], padding='VALID') + conv1_b\n",
    "\n",
    "    # SOLUTION: Activation.\n",
    "    conv1 = tf.nn.relu(conv1)\n",
    "\n",
    "    # SOLUTION: Pooling. Input = 28x28x6. Output = 14x14x6.\n",
    "    conv1 = tf.nn.max_pool(conv1, ksize=[1, 2, 2, 1], strides=[1, 2, 2, 1], padding='VALID')\n",
    "\n",
    "    # SOLUTION: Layer 2: Convolutional. Output = 10x10x16.\n",
    "    conv2_W = tf.Variable(tf.truncated_normal(shape=(5, 5, 6, 16), mean = mu, stddev = sigma))\n",
    "    conv2_b = tf.Variable(tf.zeros(16))\n",
    "    conv2   = tf.nn.conv2d(conv1, conv2_W, strides=[1, 1, 1, 1], padding='VALID') + conv2_b\n",
    "    \n",
    "    # SOLUTION: Activation.\n",
    "    conv2 = tf.nn.relu(conv2)\n",
    "\n",
    "    # SOLUTION: Pooling. Input = 10x10x16. Output = 5x5x16.\n",
    "    conv2 = tf.nn.max_pool(conv2, ksize=[1, 2, 2, 1], strides=[1, 2, 2, 1], padding='VALID')\n",
    "    h_pool3_drop = tf.nn.dropout(conv2, keep_prob)\n",
    "    # SOLUTION: Flatten. Input = 5x5x16. Output = 400.\n",
    "    fc0   = flatten(h_pool3_drop)\n",
    "    \n",
    "    # SOLUTION: Layer 3: Fully Connected. Input = 400. Output = 120.\n",
    "    fc1_W = tf.Variable(tf.truncated_normal(shape=(400, 120), mean = mu, stddev = sigma))\n",
    "    fc1_b = tf.Variable(tf.zeros(120))\n",
    "    fc1   = tf.matmul(fc0, fc1_W) + fc1_b\n",
    "    \n",
    "    # SOLUTION: Activation.\n",
    "    fc1    = tf.nn.relu(fc1)\n",
    "    \n",
    "    h_fc1_drop = tf.nn.dropout(fc1, keep_prob)\n",
    "\n",
    "    # SOLUTION: Layer 4: Fully Connected. Input = 120. Output = 84.\n",
    "    fc2_W  = tf.Variable(tf.truncated_normal(shape=(120, 84), mean = mu, stddev = sigma))\n",
    "    fc2_b  = tf.Variable(tf.zeros(84))\n",
    "    fc2    = tf.matmul(h_fc1_drop, fc2_W) + fc2_b\n",
    "    \n",
    "    # SOLUTION: Activation.\n",
    "    fc2    = tf.nn.relu(fc2)\n",
    "    h_fc2_drop = tf.nn.dropout(fc2, keep_prob)\n",
    "    # SOLUTION: Layer 5: Fully Connected. Input = 84. Output = 43.\n",
    "    fc3_W  = tf.Variable(tf.truncated_normal(shape=(84, 43), mean = mu, stddev = sigma))\n",
    "    fc3_b  = tf.Variable(tf.zeros(43))\n",
    "    logits = tf.matmul(h_fc2_drop, fc3_W) + fc3_b\n",
    "    \n",
    "    return logits"
   ]
  },
  {
   "cell_type": "markdown",
   "metadata": {},
   "source": [
    "### Train, Validate and Test the Model"
   ]
  },
  {
   "cell_type": "markdown",
   "metadata": {},
   "source": [
    "A validation set can be used to assess how well the model is performing. A low accuracy on the training and validation\n",
    "sets imply underfitting. A high accuracy on the training set but low accuracy on the validation set implies overfitting."
   ]
  },
  {
   "cell_type": "code",
   "execution_count": 13,
   "metadata": {
    "collapsed": false
   },
   "outputs": [
    {
     "name": "stdout",
     "output_type": "stream",
     "text": [
      "34799\n",
      "Training...\n",
      "\n",
      "EPOCH 1 ...\n",
      "Validation Accuracy = 0.651\n",
      "\n",
      "EPOCH 2 ...\n",
      "Validation Accuracy = 0.791\n",
      "\n",
      "EPOCH 3 ...\n",
      "Validation Accuracy = 0.853\n",
      "\n",
      "EPOCH 4 ...\n",
      "Validation Accuracy = 0.891\n",
      "\n",
      "EPOCH 5 ...\n",
      "Validation Accuracy = 0.905\n",
      "\n",
      "EPOCH 6 ...\n",
      "Validation Accuracy = 0.907\n",
      "\n",
      "EPOCH 7 ...\n",
      "Validation Accuracy = 0.922\n",
      "\n",
      "EPOCH 8 ...\n",
      "Validation Accuracy = 0.927\n",
      "\n",
      "EPOCH 9 ...\n",
      "Validation Accuracy = 0.932\n",
      "\n",
      "EPOCH 10 ...\n",
      "Validation Accuracy = 0.933\n",
      "\n",
      "EPOCH 11 ...\n",
      "Validation Accuracy = 0.939\n",
      "\n",
      "EPOCH 12 ...\n",
      "Validation Accuracy = 0.938\n",
      "\n",
      "EPOCH 13 ...\n",
      "Validation Accuracy = 0.944\n",
      "\n",
      "EPOCH 14 ...\n",
      "Validation Accuracy = 0.946\n",
      "\n",
      "EPOCH 15 ...\n",
      "Validation Accuracy = 0.946\n",
      "\n",
      "EPOCH 16 ...\n",
      "Validation Accuracy = 0.951\n",
      "\n",
      "EPOCH 17 ...\n",
      "Validation Accuracy = 0.954\n",
      "\n",
      "EPOCH 18 ...\n",
      "Validation Accuracy = 0.949\n",
      "\n",
      "EPOCH 19 ...\n",
      "Validation Accuracy = 0.952\n",
      "\n",
      "EPOCH 20 ...\n",
      "Validation Accuracy = 0.955\n",
      "\n",
      "EPOCH 21 ...\n",
      "Validation Accuracy = 0.957\n",
      "\n",
      "EPOCH 22 ...\n",
      "Validation Accuracy = 0.950\n",
      "\n",
      "EPOCH 23 ...\n",
      "Validation Accuracy = 0.953\n",
      "\n",
      "EPOCH 24 ...\n",
      "Validation Accuracy = 0.958\n",
      "\n",
      "EPOCH 25 ...\n",
      "Validation Accuracy = 0.958\n",
      "\n",
      "EPOCH 26 ...\n",
      "Validation Accuracy = 0.959\n",
      "\n",
      "EPOCH 27 ...\n",
      "Validation Accuracy = 0.958\n",
      "\n",
      "EPOCH 28 ...\n",
      "Validation Accuracy = 0.958\n",
      "\n",
      "EPOCH 29 ...\n",
      "Validation Accuracy = 0.963\n",
      "\n",
      "EPOCH 30 ...\n",
      "Validation Accuracy = 0.956\n",
      "\n",
      "Model saved\n"
     ]
    }
   ],
   "source": [
    "### Train your model here.\n",
    "### Calculate and report the accuracy on the training and validation set.\n",
    "### Once a final model architecture is selected, \n",
    "### the accuracy on the test set should be calculated and reported as well.\n",
    "### Feel free to use as many code cells as needed.\n",
    "\n",
    "keep_prob = tf.placeholder(tf.float32)\n",
    "one_hot_y = tf.one_hot(y, 43)\n",
    "\n",
    "# training\n",
    "rate = 0.001\n",
    "EPOCHS = 30\n",
    "BATCH_SIZE = 100\n",
    "\n",
    "\n",
    "logits = LeNet(x,keep_prob)\n",
    "cross_entropy = tf.nn.softmax_cross_entropy_with_logits(logits=logits, labels=one_hot_y)\n",
    "loss_operation = tf.reduce_mean(cross_entropy)\n",
    "optimizer = tf.train.AdamOptimizer(learning_rate = rate)\n",
    "training_operation = optimizer.minimize(loss_operation)\n",
    "\n",
    "# validation\n",
    "correct_prediction = tf.equal(tf.argmax(logits, 1), tf.argmax(one_hot_y, 1))\n",
    "accuracy_operation = tf.reduce_mean(tf.cast(correct_prediction, tf.float32))\n",
    "saver = tf.train.Saver()\n",
    "\n",
    "def evaluate(X_data, y_data):\n",
    "    num_examples = len(X_data)\n",
    "    total_accuracy = 0\n",
    "    sess = tf.get_default_session()\n",
    "    for offset in range(0, num_examples, BATCH_SIZE):\n",
    "        batch_x, batch_y = X_data[offset:offset+BATCH_SIZE], y_data[offset:offset+BATCH_SIZE]\n",
    "        accuracy = sess.run(accuracy_operation, feed_dict={x: batch_x, y: batch_y, keep_prob: 1.0})\n",
    "        total_accuracy += (accuracy * len(batch_x))\n",
    "    return total_accuracy / num_examples\n",
    "\n",
    "with tf.Session() as sess:\n",
    "    sess.run(tf.global_variables_initializer())\n",
    "    num_examples = len(X_train)\n",
    "    print(num_examples)\n",
    "    \n",
    "    print(\"Training...\")\n",
    "    print()\n",
    "    for i in range(EPOCHS):\n",
    "        X_train, y_train = shuffle(X_train, y_train)\n",
    "        for offset in range(0, num_examples, BATCH_SIZE):\n",
    "            end = offset + BATCH_SIZE\n",
    "            batch_x, batch_y = X_train[offset:end], y_train[offset:end]\n",
    "            sess.run(training_operation, feed_dict={x: batch_x, y: batch_y,keep_prob: 0.7})\n",
    "            \n",
    "        validation_accuracy = evaluate(X_valid, y_valid)\n",
    "        print(\"EPOCH {} ...\".format(i+1))\n",
    "        print(\"Validation Accuracy = {:.3f}\".format(validation_accuracy))\n",
    "        print()\n",
    "        \n",
    "    saver.save(sess, './lenet')\n",
    "    print(\"Model saved\")\n",
    "    \n"
   ]
  },
  {
   "cell_type": "code",
   "execution_count": 23,
   "metadata": {
    "collapsed": false
   },
   "outputs": [
    {
     "name": "stdout",
     "output_type": "stream",
     "text": [
      "Test Accuracy = 0.996\n"
     ]
    }
   ],
   "source": [
    "# test the model with test sets\n",
    "\n",
    "with tf.Session() as sess:\n",
    "    sess.run(tf.global_variables_initializer())\n",
    "    saver.restore(sess, tf.train.latest_checkpoint('.'))\n",
    "\n",
    "    test_accuracy = evaluate(X_train, y_train)\n",
    "    print(\"Test Accuracy = {:.3f}\".format(test_accuracy))"
   ]
  },
  {
   "cell_type": "markdown",
   "metadata": {},
   "source": [
    "---\n",
    "\n",
    "## Step 3: Test a Model on New Images\n",
    "\n",
    "To give yourself more insight into how your model is working, download at least five pictures of German traffic signs from the web and use your model to predict the traffic sign type.\n",
    "\n",
    "You may find `signnames.csv` useful as it contains mappings from the class id (integer) to the actual sign name."
   ]
  },
  {
   "cell_type": "markdown",
   "metadata": {},
   "source": [
    "### Load and Output the Images"
   ]
  },
  {
   "cell_type": "code",
   "execution_count": 15,
   "metadata": {
    "collapsed": true
   },
   "outputs": [],
   "source": [
    "import csv\n",
    "with open('signnames.csv') as f:\n",
    "    sign_dict = dict(filter(None, csv.reader(f)))\n",
    "def signName(id):\n",
    "    return sign_dict[str(id)]\n",
    "    "
   ]
  },
  {
   "cell_type": "code",
   "execution_count": 34,
   "metadata": {
    "collapsed": false
   },
   "outputs": [],
   "source": [
    "### Load the images and plot them here.\n",
    "### Feel free to use as many code cells as needed\n",
    "import os\n",
    "X_New = []\n",
    "c = os.listdir(\"traffic_sign\")\n",
    "size = 32, 32\n",
    "for path in c:\n",
    "    image = imread(\"traffic_sign/\"+ path)\n",
    "#     image.thumbnail(size, Image.LANCZOS )\n",
    "    image = image.astype(np.uint8)\n",
    "#     print(Image)\n",
    "#     image = image.astype(np.uint8)\n",
    "#     padd_height = int(32-image.shape[0])\n",
    "#     padd_width = int(32-image.shape[1])\n",
    "#     image = np.pad(image, ((padd_height,0),(padd_width,0),(0,0)), 'constant')\n",
    "    X_New.append(image)\n",
    "# print(X_New)\n",
    "X_New = np.array(X_New)\n",
    "X_New_input = rgbto_gray_normalize(X_New)\n",
    "predicts = tf.nn.top_k(logits, k=43, sorted=True)\n"
   ]
  },
  {
   "cell_type": "markdown",
   "metadata": {},
   "source": [
    "### Predict the Sign Type for Each Image"
   ]
  },
  {
   "cell_type": "code",
   "execution_count": 35,
   "metadata": {
    "collapsed": false
   },
   "outputs": [
    {
     "name": "stdout",
     "output_type": "stream",
     "text": [
      "[[13 39 12  1 35  2 34 15 33 36  9 25 38 40 14  4 28 22  8 26 37  3 29 17\n",
      "   0 11  5 19 20 30 21  7 10 23 32 41 31 24 42 18  6 27 16]\n",
      " [ 9 16 17 35 41 10 12 23  3 34 40 15 42 19 20 38 29  7 28 33 13 32 26 11\n",
      "   5 21 37 30 14 36 25 31  2 39  8  1 18 22  4 24 27  0  6]\n",
      " [18 27 26 11 28 37 20 40 24 25 30  1  4 12 29  0 15 31 39 22 33 38 21 19\n",
      "   5 23  2  7 32  8 14 41 10  9  3 35 34 17 36 13 16  6 42]\n",
      " [17 34 14 12 38 30 26 13 22  9 32 25 40 19 37 36 23 21 20 31 35 18 33  1\n",
      "  11 10 39 29  0  4  5 41 15  3  8 28 42  6 16  2  7 24 27]\n",
      " [22 29 25 26 20 23 24 19 28 36 31 18 39 30 33 35 15 13 21 34 12 37  9 17\n",
      "  27  1  0 11 38  3 40 14 32  8  4 10 41  2  5 16  7 42  6]\n",
      " [ 5  3  2  7  1  8 10  4 38 14  6 25 35 20 15 11 19  9 33 42 13 32 28 12\n",
      "  34 29 40  0 36 31 21 16 39 23 41 27 30 24 37 18 26 17 22]\n",
      " [17 14 34  9 12 38 33 13 35 26 37 10 22 36 30 32 19 40 23 21 20 31 25 39\n",
      "  18  1 11  3  4 15  5 16 29  0 41  8 42 28  2  6  7 24 27]]\n"
     ]
    }
   ],
   "source": [
    "### Run the predictions here and use the model to output the prediction for each image.\n",
    "### Make sure to pre-process the images with the same pre-processing pipeline used earlier.\n",
    "### Feel free to use as many code cells as needed.\n",
    "with tf.Session() as sess:\n",
    "    sess.run(tf.global_variables_initializer())\n",
    "    saver.restore(sess, tf.train.latest_checkpoint('.'))\n",
    "    \n",
    "    predicts_class = sess.run(predicts, feed_dict={x: X_New_input, keep_prob:1.0})\n",
    "   \n",
    "print(predicts_class[1])\n"
   ]
  },
  {
   "cell_type": "code",
   "execution_count": 36,
   "metadata": {
    "collapsed": false
   },
   "outputs": [
    {
     "data": {
      "image/png": "[encoded data removed]",
      "text/plain": [
       "<matplotlib.figure.Figure at 0x250996033c8>"
      ]
     },
     "metadata": {},
     "output_type": "display_data"
    }
   ],
   "source": [
    "# plotting the result \n",
    "j = 0\n",
    "plt.figure(figsize=(15, 5))\n",
    "for i in X_New:\n",
    "    \n",
    "    plt.subplot(2,5,j+1)\n",
    "    plt.imshow(np.squeeze(X_New[j]), cmap='gray')\n",
    "    plt.text(0,1,str(signName(predicts_class[1][j][0])),color='k',backgroundcolor='y')\n",
    "    j = j +1\n",
    "    \n",
    "plt.subplots_adjust(wspace=2, hspace=2)\n",
    "plt.show()    "
   ]
  },
  {
   "cell_type": "markdown",
   "metadata": {},
   "source": [
    "### Analyze Performance"
   ]
  },
  {
   "cell_type": "code",
   "execution_count": 37,
   "metadata": {
    "collapsed": false
   },
   "outputs": [
    {
     "name": "stdout",
     "output_type": "stream",
     "text": [
      "50.0 accuracy\n"
     ]
    }
   ],
   "source": [
    "### Calculate the accuracy for these 5 new images. \n",
    "### For example, if the model predicted 1 out of 5 signs correctly, it's 20% accurate on these new images.\n",
    "print(4/8*100, str(\"accuracy\"))"
   ]
  },
  {
   "cell_type": "markdown",
   "metadata": {},
   "source": [
    "### Output Top 5 Softmax Probabilities For Each Image Found on the Web"
   ]
  },
  {
   "cell_type": "markdown",
   "metadata": {},
   "source": [
    "For each of the new images, print out the model's softmax probabilities to show the **certainty** of the model's predictions (limit the output to the top 5 probabilities for each image). [`tf.nn.top_k`](https://www.tensorflow.org/versions/r0.12/api_docs/python/nn.html#top_k) could prove helpful here. \n",
    "\n",
    "The example below demonstrates how tf.nn.top_k can be used to find the top k predictions for each image.\n",
    "\n",
    "`tf.nn.top_k` will return the values and indices (class ids) of the top k predictions. So if k=3, for each sign, it'll return the 3 largest probabilities (out of a possible 43) and the correspoding class ids.\n",
    "\n",
    "Take this numpy array as an example. The values in the array represent predictions. The array contains softmax probabilities for five candidate images with six possible classes. `tk.nn.top_k` is used to choose the three classes with the highest probability:\n",
    "\n",
    "```\n",
    "# (5, 6) array\n",
    "a = np.array([[ 0.24879643,  0.07032244,  0.12641572,  0.34763842,  0.07893497,\n",
    "         0.12789202],\n",
    "       [ 0.28086119,  0.27569815,  0.08594638,  0.0178669 ,  0.18063401,\n",
    "         0.15899337],\n",
    "       [ 0.26076848,  0.23664738,  0.08020603,  0.07001922,  0.1134371 ,\n",
    "         0.23892179],\n",
    "       [ 0.11943333,  0.29198961,  0.02605103,  0.26234032,  0.1351348 ,\n",
    "         0.16505091],\n",
    "       [ 0.09561176,  0.34396535,  0.0643941 ,  0.16240774,  0.24206137,\n",
    "         0.09155967]])\n",
    "```\n",
    "\n",
    "Running it through `sess.run(tf.nn.top_k(tf.constant(a), k=3))` produces:\n",
    "\n",
    "```\n",
    "TopKV2(values=array([[ 0.34763842,  0.24879643,  0.12789202],\n",
    "       [ 0.28086119,  0.27569815,  0.18063401],\n",
    "       [ 0.26076848,  0.23892179,  0.23664738],\n",
    "       [ 0.29198961,  0.26234032,  0.16505091],\n",
    "       [ 0.34396535,  0.24206137,  0.16240774]]), indices=array([[3, 0, 5],\n",
    "       [0, 1, 4],\n",
    "       [0, 5, 1],\n",
    "       [1, 3, 5],\n",
    "       [1, 4, 3]], dtype=int32))\n",
    "```\n",
    "\n",
    "Looking just at the first row we get `[ 0.34763842,  0.24879643,  0.12789202]`, you can confirm these are the 3 largest probabilities in `a`. You'll also notice `[3, 0, 5]` are the corresponding indices."
   ]
  },
  {
   "cell_type": "code",
   "execution_count": 38,
   "metadata": {
    "collapsed": false
   },
   "outputs": [
    {
     "name": "stdout",
     "output_type": "stream",
     "text": [
      "[[  1.00000000e+00   4.56997842e-11   3.05045225e-11]\n",
      " [  1.00000000e+00   1.16444999e-14   3.39791527e-18]\n",
      " [  9.99994397e-01   4.41712018e-06   1.23118161e-06]\n",
      " [  1.00000000e+00   1.94240304e-21   1.11077028e-21]\n",
      " [  9.99999762e-01   2.93124174e-07   2.12307238e-08]]\n"
     ]
    }
   ],
   "source": [
    "### Print out the top five softmax probabilities for the predictions on the German traffic sign images found on the web. \n",
    "### Feel free to use as many code cells as needed.\n",
    "# only top 3\n",
    "predicts_top3 = tf.nn.top_k(tf.nn.softmax(logits), k=3, sorted=True)\n",
    "with tf.Session() as sess:\n",
    "    sess.run(tf.global_variables_initializer())\n",
    "    saver.restore(sess, tf.train.latest_checkpoint('.'))\n",
    "    \n",
    "    predicts_class_top3 = sess.run(predicts_top3, feed_dict={x: X_New_input[:5], keep_prob:1.0})\n",
    "   \n",
    "print(predicts_class_top3[0])\n"
   ]
  },
  {
   "cell_type": "code",
   "execution_count": 39,
   "metadata": {
    "collapsed": false
   },
   "outputs": [
    {
     "name": "stdout",
     "output_type": "stream",
     "text": [
      "[[13 39 12]\n",
      " [ 9 16 17]\n",
      " [18 27 26]\n",
      " [17 34 14]\n",
      " [22 29 25]]\n"
     ]
    }
   ],
   "source": [
    "print(predicts_class_top3[1])"
   ]
  },
  {
   "cell_type": "markdown",
   "metadata": {},
   "source": [
    "---\n",
    "\n",
    "## Step 4: Visualize the Neural Network's State with Test Images\n",
    "\n",
    " This Section is not required to complete but acts as an additional excersise for understaning the output of a neural network's weights. While neural networks can be a great learning device they are often referred to as a black box. We can understand what the weights of a neural network look like better by plotting their feature maps. After successfully training your neural network you can see what it's feature maps look like by plotting the output of the network's weight layers in response to a test stimuli image. From these plotted feature maps, it's possible to see what characteristics of an image the network finds interesting. For a sign, maybe the inner network feature maps react with high activation to the sign's boundary outline or to the contrast in the sign's painted symbol.\n",
    "\n",
    " Provided for you below is the function code that allows you to get the visualization output of any tensorflow weight layer you want. The inputs to the function should be a stimuli image, one used during training or a new one you provided, and then the tensorflow variable name that represents the layer's state during the training process, for instance if you wanted to see what the [LeNet lab's](https://classroom.udacity.com/nanodegrees/nd013/parts/fbf77062-5703-404e-b60c-95b78b2f3f9e/modules/6df7ae49-c61c-4bb2-a23e-6527e69209ec/lessons/601ae704-1035-4287-8b11-e2c2716217ad/concepts/d4aca031-508f-4e0b-b493-e7b706120f81) feature maps looked like for it's second convolutional layer you could enter conv2 as the tf_activation variable.\n",
    "\n",
    "For an example of what feature map outputs look like, check out NVIDIA's results in their paper [End-to-End Deep Learning for Self-Driving Cars](https://devblogs.nvidia.com/parallelforall/deep-learning-self-driving-cars/) in the section Visualization of internal CNN State. NVIDIA was able to show that their network's inner weights had high activations to road boundary lines by comparing feature maps from an image with a clear path to one without. Try experimenting with a similar test to show that your trained network's weights are looking for interesting features, whether it's looking at differences in feature maps from images with or without a sign, or even what feature maps look like in a trained network vs a completely untrained one on the same sign image.\n",
    "\n",
    "<figure>\n",
    " <img src=\"visualize_cnn.png\" width=\"380\" alt=\"Combined Image\" />\n",
    " <figcaption>\n",
    " <p></p> \n",
    " <p style=\"text-align: center;\"> Your output should look something like this (above)</p> \n",
    " </figcaption>\n",
    "</figure>\n",
    " <p></p> \n"
   ]
  },
  {
   "cell_type": "code",
   "execution_count": 474,
   "metadata": {
    "collapsed": true
   },
   "outputs": [],
   "source": [
    "### Visualize your network's feature maps here.\n",
    "### Feel free to use as many code cells as needed.\n",
    "\n",
    "# image_input: the test image being fed into the network to produce the feature maps\n",
    "# tf_activation: should be a tf variable name used during your training procedure that represents the calculated state of a specific weight layer\n",
    "# activation_min/max: can be used to view the activation contrast in more detail, by default matplot sets min and max to the actual min and max values of the output\n",
    "# plt_num: used to plot out multiple different weight feature map sets on the same block, just extend the plt number for each new feature map entry\n",
    "\n",
    "def outputFeatureMap(image_input, tf_activation, activation_min=-1, activation_max=-1 ,plt_num=1):\n",
    "    # Here make sure to preprocess your image_input in a way your network expects\n",
    "    # with size, normalization, ect if needed\n",
    "    # image_input =\n",
    "    # Note: x should be the same name as your network's tensorflow data placeholder variable\n",
    "    # If you get an error tf_activation is not defined it maybe having trouble accessing the variable from inside a function\n",
    "    activation = tf_activation.eval(session=sess,feed_dict={x : image_input,keep_prob: 1.0})\n",
    "    featuremaps = activation.shape[3]\n",
    "    plt.figure(plt_num, figsize=(15,15))\n",
    "    for featuremap in range(featuremaps):\n",
    "        plt.subplot(6,8, featuremap+1) # sets the number of feature maps to show on each row and column\n",
    "        plt.title('FeatureMap ' + str(featuremap)) # displays the feature map number\n",
    "        if activation_min != -1 & activation_max != -1:\n",
    "            plt.imshow(activation[0,:,:, featuremap], interpolation=\"nearest\", vmin =activation_min, vmax=activation_max, cmap=\"gray\")\n",
    "        elif activation_max != -1:\n",
    "            plt.imshow(activation[0,:,:, featuremap], interpolation=\"nearest\", vmax=activation_max, cmap=\"gray\")\n",
    "        elif activation_min !=-1:\n",
    "            plt.imshow(activation[0,:,:, featuremap], interpolation=\"nearest\", vmin=activation_min, cmap=\"gray\")\n",
    "        else:\n",
    "            plt.imshow(activation[0,:,:, featuremap], interpolation=\"nearest\", cmap=\"gray\")"
   ]
  },
  {
   "cell_type": "code",
   "execution_count": 478,
   "metadata": {
    "collapsed": false
   },
   "outputs": [
    {
     "data": {
      "image/png": "[encoded data removed]",
      "text/plain": [
       "<matplotlib.figure.Figure at 0x2d0188c36d8>"
      ]
     },
     "metadata": {},
     "output_type": "display_data"
    }
   ],
   "source": [
    "\n",
    "with tf.Session() as sess:\n",
    "    sess.run(tf.local_variables_initializer())\n",
    "    saver.restore(sess, tf.train.latest_checkpoint('.'))\n",
    "    outputFeatureMap(X_New_input[:1],conv1)\n",
    "    "
   ]
  },
  {
   "cell_type": "markdown",
   "metadata": {},
   "source": [
    "### Question 9\n",
    "\n",
    "Discuss how you used the visual output of your trained network's feature maps to show that it had learned to look for interesting characteristics in traffic sign images\n"
   ]
  },
  {
   "cell_type": "markdown",
   "metadata": {},
   "source": [
    "**Answer:**"
   ]
  },
  {
   "cell_type": "code",
   "execution_count": 481,
   "metadata": {
    "collapsed": false
   },
   "outputs": [],
   "source": [
    "# The conv1 used above shows how it learns to identify the edges and the border. The conv1 learns the lower dimension \n",
    "# characterstics of the image"
   ]
  },
  {
   "cell_type": "markdown",
   "metadata": {},
   "source": [
    "> **Note**: Once you have completed all of the code implementations and successfully answered each question above, you may finalize your work by exporting the iPython Notebook as an HTML document. You can do this by using the menu above and navigating to  \\n\",\n",
    "    \"**File -> Download as -> HTML (.html)**. Include the finished document along with this notebook as your submission."
   ]
  },
  {
   "cell_type": "markdown",
   "metadata": {},
   "source": [
    "### Project Writeup\n",
    "\n",
    "Once you have completed the code implementation, document your results in a project writeup using this [template](https://github.com/udacity/CarND-Traffic-Sign-Classifier-Project/blob/master/writeup_template.md) as a guide. The writeup can be in a markdown or pdf file. "
   ]
  }
 ],
 "metadata": {
  "anaconda-cloud": {},
  "kernelspec": {
   "display_name": "Python 3",
   "language": "python",
   "name": "python3"
  },
  "language_info": {
   "codemirror_mode": {
    "name": "ipython",
    "version": 3
   },
   "file_extension": ".py",
   "mimetype": "text/x-python",
   "name": "python",
   "nbconvert_exporter": "python",
   "pygments_lexer": "ipython3",
   "version": "3.5.2"
  }
 },
 "nbformat": 4,
 "nbformat_minor": 1
}
